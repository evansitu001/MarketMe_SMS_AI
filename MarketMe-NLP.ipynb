{
 "cells": [
  {
   "cell_type": "code",
   "execution_count": 4,
   "metadata": {},
   "outputs": [],
   "source": [
    "#install spacy and import libs\n",
    "#! pip install spacy-readability\n",
    "# ! pip install spacytextblob\n",
    "import spacy\n",
    "from spacy_readability import Readability\n",
    "from spacytextblob.spacytextblob import SpacyTextBlob"
   ]
  },
  {
   "cell_type": "code",
   "execution_count": 35,
   "metadata": {},
   "outputs": [],
   "source": [
    "#Download the language packages\n",
    "# spacy.cli.download(\"en_core_web_sm\")\n",
    "#spacy.cli.download(\"fr_core_news_sm\")\n",
    "#spacy.cli.download(\"en\")\n",
    "\n",
    "#help(Readability)"
   ]
  },
  {
   "cell_type": "code",
   "execution_count": 36,
   "metadata": {},
   "outputs": [],
   "source": [
    "#Create the nlp object\n",
    "nlp = spacy.load('en_core_web_sm')\n",
    "nlp.add_pipe('spacytextblob')\n",
    "read = Readability()"
   ]
  },
  {
   "cell_type": "code",
   "execution_count": 47,
   "metadata": {},
   "outputs": [],
   "source": [
    "SMS = \"i am a spam\"\n",
    "doc = nlp(SMS)"
   ]
  },
  {
   "cell_type": "code",
   "execution_count": 48,
   "metadata": {},
   "outputs": [
    {
     "name": "stdout",
     "output_type": "stream",
     "text": [
      "This SMS is easy to read, with \n",
      "Flesh Kincaid Reading Easy:118.17500000000001\n",
      "MarketMe Readability Score:2\n"
     ]
    }
   ],
   "source": [
    "# Flesch Kincaid ref: https://en.wikipedia.org/wiki/Flesch%E2%80%93Kincaid_readability_tests\n",
    "try:\n",
    "    Me_Readability = 0\n",
    "    if doc._.flesch_kincaid_reading_ease>=80:\n",
    "        Me_Readability = 2\n",
    "        print(\"This SMS is easy to read, with \\nFlesh Kincaid Reading Easy:\" + str(doc._.flesch_kincaid_reading_ease) + \"\\nMarketMe Readability Score:\" + str(Me_Readability))\n",
    "    elif doc._.flesch_kincaid_reading_ease>= 70:\n",
    "        Me_Readability = 1.5\n",
    "        print(\"This SMS fairly easy to read., with \\nFlesh Kincaid Reading Easy:\" + str(doc._.flesch_kincaid_reading_ease) + \"\\nMarketMe Readability Score:\" + str(Me_Readability))\n",
    "    elif doc._.flesch_kincaid_reading_ease>= 60:\n",
    "        Me_Readability = 1\n",
    "        print(\"This SMS somewhat difficult to read., with \\nFlesh Kincaid Reading Easy:\" + str(doc._.flesch_kincaid_reading_ease) + \"\\nMarketMe Readability Score:\" + str(Me_Readability))\n",
    "    elif doc._.flesch_kincaid_reading_ease< 60:\n",
    "        Me_Readability = 0\n",
    "        print(\"This SMS is difficult to read., with \\nFlesh Kincaid Reading Easy:\" + str(doc._.flesch_kincaid_reading_ease) + \"\\nMarketMe Readability Score:\" + str(Me_Readability))      \n",
    "except Exception as ex:\n",
    "    print(ex)\n",
    "    \n",
    "# print(doc._.flesch_kincaid_reading_ease)\n",
    "# print(doc._.flesch_kincaid_grade_level)\n",
    "# print(doc._.dale_chall)\n",
    "# print(doc._.smog)\n",
    "# print(doc._.coleman_liau_index)\n",
    "# print(doc._.automated_readability_index)"
   ]
  },
  {
   "cell_type": "code",
   "execution_count": 49,
   "metadata": {},
   "outputs": [
    {
     "name": "stdout",
     "output_type": "stream",
     "text": [
      "Somewhat positive SMS with \n",
      "Polarity:0.0\n",
      "MarketMe Sentiment Score:1\n"
     ]
    }
   ],
   "source": [
    "# SpaCyTextBlob sentiment Analysis\n",
    "try:\n",
    "    Me_Sentiment = 0 \n",
    "    if doc._.polarity >= 0.5:\n",
    "        Me_Sentiment=2\n",
    "        print(\"Positive SMS with \\nPolarity:\" + str(doc._.polarity) + \"\\nMarketMe Sentiment Score:\" + str(Me_Sentiment))\n",
    "    elif doc._.polarity >= 0:\n",
    "        Me_Sentiment=1\n",
    "        print(\"Somewhat positive SMS with \\nPolarity:\" + str(doc._.polarity) + \"\\nMarketMe Sentiment Score:\" + str(Me_Sentiment))\n",
    "    elif doc._.polarity <0:\n",
    "        Me_Sentiment=0\n",
    "        print(\"Negative SMS with \\nPolarity:\" + str(doc._.polarity) + \"\\nMarketMe Sentiment Score:\" + str(Me_Sentiment))\n",
    "except Exception as ex:\n",
    "    print(ex)"
   ]
  },
  {
   "cell_type": "code",
   "execution_count": null,
   "metadata": {},
   "outputs": [],
   "source": []
  },
  {
   "cell_type": "code",
   "execution_count": null,
   "metadata": {},
   "outputs": [],
   "source": []
  }
 ],
 "metadata": {
  "kernelspec": {
   "display_name": "Python 3",
   "language": "python",
   "name": "python3"
  },
  "language_info": {
   "codemirror_mode": {
    "name": "ipython",
    "version": 3
   },
   "file_extension": ".py",
   "mimetype": "text/x-python",
   "name": "python",
   "nbconvert_exporter": "python",
   "pygments_lexer": "ipython3",
   "version": "3.7.6"
  }
 },
 "nbformat": 4,
 "nbformat_minor": 4
}
